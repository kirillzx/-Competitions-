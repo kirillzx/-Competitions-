{
 "cells": [
  {
   "cell_type": "code",
   "execution_count": 1,
   "id": "6cf970ea",
   "metadata": {
    "_cell_guid": "b1076dfc-b9ad-4769-8c92-a6c4dae69d19",
    "_uuid": "8f2839f25d086af736a60e9eeb907d3b93b6e0e5",
    "execution": {
     "iopub.execute_input": "2021-11-17T18:38:11.332969Z",
     "iopub.status.busy": "2021-11-17T18:38:11.331458Z",
     "iopub.status.idle": "2021-11-17T18:38:11.337267Z",
     "shell.execute_reply": "2021-11-17T18:38:11.336578Z",
     "shell.execute_reply.started": "2021-11-17T18:26:42.232664Z"
    },
    "papermill": {
     "duration": 0.042692,
     "end_time": "2021-11-17T18:38:11.337437",
     "exception": false,
     "start_time": "2021-11-17T18:38:11.294745",
     "status": "completed"
    },
    "tags": []
   },
   "outputs": [],
   "source": [
    "# This Python 3 environment comes with many helpful analytics libraries installed\n",
    "# It is defined by the kaggle/python Docker image: https://github.com/kaggle/docker-python\n",
    "# For example, here's several helpful packages to load\n",
    "\n",
    "import numpy as np # linear algebra\n",
    "import pandas as pd # data processing, CSV file I/O (e.g. pd.read_csv)\n",
    "\n",
    "# Input data files are available in the read-only \"../input/\" directory\n",
    "# For example, running this (by clicking run or pressing Shift+Enter) will list all files under the input directory\n",
    "\n",
    "import os\n",
    "# for dirname, _, filenames in os.walk('/kaggle/input'):\n",
    "#     for filename in filenames:\n",
    "#         print(os.path.join(dirname, filename))\n",
    "\n",
    "# You can write up to 20GB to the current directory (/kaggle/working/) that gets preserved as output when you create a version using \"Save & Run All\" \n",
    "# You can also write temporary files to /kaggle/temp/, but they won't be saved outside of the current session"
   ]
  },
  {
   "cell_type": "code",
   "execution_count": 2,
   "id": "fab2a488",
   "metadata": {
    "execution": {
     "iopub.execute_input": "2021-11-17T18:38:11.397713Z",
     "iopub.status.busy": "2021-11-17T18:38:11.396344Z",
     "iopub.status.idle": "2021-11-17T18:38:12.873156Z",
     "shell.execute_reply": "2021-11-17T18:38:12.872665Z",
     "shell.execute_reply.started": "2021-11-17T18:26:42.253261Z"
    },
    "papermill": {
     "duration": 1.506815,
     "end_time": "2021-11-17T18:38:12.873294",
     "exception": false,
     "start_time": "2021-11-17T18:38:11.366479",
     "status": "completed"
    },
    "tags": []
   },
   "outputs": [],
   "source": [
    "import numpy as np\n",
    "import pandas as pd\n",
    "\n",
    "import os\n",
    "\n",
    "from PIL import Image\n",
    "\n",
    "import torch\n",
    "from torch.utils.data import DataLoader, Dataset\n",
    "\n",
    "import torch.nn as nn\n",
    "import torchvision.models as models\n",
    "import torch.optim as optim\n",
    "import torchvision.transforms as transforms"
   ]
  },
  {
   "cell_type": "code",
   "execution_count": 3,
   "id": "7a48eb77",
   "metadata": {
    "execution": {
     "iopub.execute_input": "2021-11-17T18:38:12.930376Z",
     "iopub.status.busy": "2021-11-17T18:38:12.929818Z",
     "iopub.status.idle": "2021-11-17T18:38:12.932942Z",
     "shell.execute_reply": "2021-11-17T18:38:12.932551Z",
     "shell.execute_reply.started": "2021-11-17T10:47:27.041086Z"
    },
    "papermill": {
     "duration": 0.032613,
     "end_time": "2021-11-17T18:38:12.933046",
     "exception": false,
     "start_time": "2021-11-17T18:38:12.900433",
     "status": "completed"
    },
    "tags": []
   },
   "outputs": [],
   "source": [
    "# class PawpularDataset(Dataset):\n",
    "#     def __init__(self, images_path, features_path, transform):\n",
    "#         self.images_path = images_path\n",
    "#         self.df = pd.read_csv(features_path, dtype={'Pawpularity': np.float32})\n",
    "        \n",
    "#         self.imgs = self.df['Id']\n",
    "#         self.targets = self.df['Pawpularity']\n",
    "#         self.transform = transform\n",
    "    \n",
    "#     def __len__(self):\n",
    "#         return len(self.df)\n",
    "    \n",
    "#     def __getitem__(self, index):\n",
    "#         img_id = self.imgs[index]\n",
    "#         img = Image.open(os.path.join(self.images_path, img_id+'.jpg')).convert('RGB')\n",
    "#         img = self.transform(img)\n",
    "        \n",
    "#         targets = self.targets[index]\n",
    "        \n",
    "#         return img, targets"
   ]
  },
  {
   "cell_type": "code",
   "execution_count": 4,
   "id": "4e6149fe",
   "metadata": {
    "execution": {
     "iopub.execute_input": "2021-11-17T18:38:12.989122Z",
     "iopub.status.busy": "2021-11-17T18:38:12.988333Z",
     "iopub.status.idle": "2021-11-17T18:38:12.990306Z",
     "shell.execute_reply": "2021-11-17T18:38:12.990709Z",
     "shell.execute_reply.started": "2021-11-06T07:31:02.786869Z"
    },
    "papermill": {
     "duration": 0.031808,
     "end_time": "2021-11-17T18:38:12.990822",
     "exception": false,
     "start_time": "2021-11-17T18:38:12.959014",
     "status": "completed"
    },
    "tags": []
   },
   "outputs": [],
   "source": [
    "# class PawpularDatasetTest(Dataset):\n",
    "#     def __init__(self, images_path, features_path, transform):\n",
    "#         self.images_path = images_path\n",
    "#         self.df = pd.read_csv(features_path)\n",
    "        \n",
    "#         self.imgs = self.df['Id']\n",
    "#         self.transform = transform\n",
    "    \n",
    "#     def __len__(self):\n",
    "#         return len(self.df)\n",
    "    \n",
    "#     def __getitem__(self, index):\n",
    "#         img_id = self.imgs[index]\n",
    "#         img = Image.open(os.path.join(self.images_path, img_id+'.jpg')).convert('RGB')\n",
    "#         img = self.transform(img)\n",
    "        \n",
    "#         return img"
   ]
  },
  {
   "cell_type": "code",
   "execution_count": 5,
   "id": "5143e0b9",
   "metadata": {
    "execution": {
     "iopub.execute_input": "2021-11-17T18:38:13.046527Z",
     "iopub.status.busy": "2021-11-17T18:38:13.045815Z",
     "iopub.status.idle": "2021-11-17T18:38:13.047926Z",
     "shell.execute_reply": "2021-11-17T18:38:13.048407Z",
     "shell.execute_reply.started": "2021-11-06T07:31:07.924243Z"
    },
    "papermill": {
     "duration": 0.032039,
     "end_time": "2021-11-17T18:38:13.048527",
     "exception": false,
     "start_time": "2021-11-17T18:38:13.016488",
     "status": "completed"
    },
    "tags": []
   },
   "outputs": [],
   "source": [
    "# class PretrainedCNN(nn.Module):\n",
    "#     def __init__(self, hidden_size, num_classes, train=False):\n",
    "#         super(PretrainedCNN, self).__init__()\n",
    "#         self.train = train\n",
    "#         self.resnet = models.resnet18(pretrained=False) # TODO\n",
    "        \n",
    "#         self.resnet.fc = nn.Linear(self.resnet.fc.in_features, hidden_size) # TODO\n",
    "        \n",
    "#         self.fc = nn.Linear(hidden_size, num_classes)\n",
    "        \n",
    "#         self.relu = nn.ReLU()\n",
    "#         self.dropout = nn.Dropout(0.2)\n",
    "        \n",
    "#     def forward(self, images):\n",
    "#         for name, param in self.resnet.named_parameters():\n",
    "#             if 'fc.weight' in name or 'fc.bias' in name:\n",
    "#                 param.requires_grad = True\n",
    "#             else:\n",
    "#                 param.requires_grad = self.train\n",
    "                \n",
    "#         resnet_features = self.dropout(self.relu(self.resnet(images)))\n",
    "                \n",
    "#         return self.fc(resnet_features)"
   ]
  },
  {
   "cell_type": "code",
   "execution_count": 6,
   "id": "3091455a",
   "metadata": {
    "execution": {
     "iopub.execute_input": "2021-11-17T18:38:13.103451Z",
     "iopub.status.busy": "2021-11-17T18:38:13.102660Z",
     "iopub.status.idle": "2021-11-17T18:38:13.105069Z",
     "shell.execute_reply": "2021-11-17T18:38:13.104650Z",
     "shell.execute_reply.started": "2021-11-06T07:31:11.79922Z"
    },
    "papermill": {
     "duration": 0.03091,
     "end_time": "2021-11-17T18:38:13.105195",
     "exception": false,
     "start_time": "2021-11-17T18:38:13.074285",
     "status": "completed"
    },
    "tags": []
   },
   "outputs": [],
   "source": [
    "# transform = transforms.Compose(\n",
    "#   [\n",
    "#    transforms.Resize((256,256)),\n",
    "#    transforms.CenterCrop(224),\n",
    "#    transforms.ToTensor(),\n",
    "#    transforms.Normalize(mean=[0.485, 0.456, 0.406], \n",
    "#                         std=[0.229, 0.224, 0.225])\n",
    "#   ]\n",
    "# )"
   ]
  },
  {
   "cell_type": "code",
   "execution_count": 7,
   "id": "43612429",
   "metadata": {
    "execution": {
     "iopub.execute_input": "2021-11-17T18:38:13.161224Z",
     "iopub.status.busy": "2021-11-17T18:38:13.160423Z",
     "iopub.status.idle": "2021-11-17T18:38:13.162383Z",
     "shell.execute_reply": "2021-11-17T18:38:13.162784Z",
     "shell.execute_reply.started": "2021-11-06T07:31:24.998122Z"
    },
    "papermill": {
     "duration": 0.032163,
     "end_time": "2021-11-17T18:38:13.162906",
     "exception": false,
     "start_time": "2021-11-17T18:38:13.130743",
     "status": "completed"
    },
    "tags": []
   },
   "outputs": [],
   "source": [
    "# torch.manual_seed(1)\n",
    "\n",
    "# trainset = PawpularDataset(images_path='../input/petfinder-pawpularity-score/train', \n",
    "#                            features_path='../input/petfinder-pawpularity-score/train.csv', \n",
    "#                            transform=transform)\n",
    "\n",
    "\n",
    "# testloader = PawpularDatasetTest(images_path='../input/petfinder-pawpularity-score/test', \n",
    "#                            features_path='../input/petfinder-pawpularity-score/test.csv', \n",
    "#                            transform=transform)\n",
    "\n",
    "# train_loader = DataLoader(\n",
    "#     dataset=trainset,\n",
    "#     batch_size=64,\n",
    "#     shuffle=True\n",
    "# )\n",
    "\n",
    "# test_loader = DataLoader(\n",
    "#     dataset=testloader,\n",
    "#     batch_size=1,\n",
    "#     shuffle=False\n",
    "# )\n",
    "\n",
    "# num_examples = len(trainset)\n",
    "# val_len = round(0.33*num_examples)\n",
    "# train_len = num_examples - val_len\n",
    "\n",
    "# train, validation = torch.utils.data.random_split(trainset, [train_len, val_len])\n",
    "# train_loader = torch.utils.data.DataLoader(train, batch_size=100, \n",
    "#                                            shuffle=True, num_workers=2)\n",
    "# val_loader = torch.utils.data.DataLoader(validation, batch_size=100, \n",
    "#                                          shuffle=True, num_workers=2)"
   ]
  },
  {
   "cell_type": "code",
   "execution_count": 8,
   "id": "0d81c41c",
   "metadata": {
    "execution": {
     "iopub.execute_input": "2021-11-17T18:38:13.218072Z",
     "iopub.status.busy": "2021-11-17T18:38:13.217299Z",
     "iopub.status.idle": "2021-11-17T18:38:13.219661Z",
     "shell.execute_reply": "2021-11-17T18:38:13.219241Z",
     "shell.execute_reply.started": "2021-11-06T07:31:32.932992Z"
    },
    "papermill": {
     "duration": 0.031038,
     "end_time": "2021-11-17T18:38:13.219756",
     "exception": false,
     "start_time": "2021-11-17T18:38:13.188718",
     "status": "completed"
    },
    "tags": []
   },
   "outputs": [],
   "source": [
    "# device = torch.device('cuda' if torch.cuda.is_available() else 'cpu')\n",
    "\n",
    "# hidden_size = 256\n",
    "# num_classes = 1\n",
    "# learning_rate = 3e-4\n",
    "# num_epochs = 5"
   ]
  },
  {
   "cell_type": "code",
   "execution_count": 9,
   "id": "0320154c",
   "metadata": {
    "execution": {
     "iopub.execute_input": "2021-11-17T18:38:13.304238Z",
     "iopub.status.busy": "2021-11-17T18:38:13.303375Z",
     "iopub.status.idle": "2021-11-17T18:38:13.307513Z",
     "shell.execute_reply": "2021-11-17T18:38:13.307891Z",
     "shell.execute_reply.started": "2021-11-06T07:41:15.476049Z"
    },
    "papermill": {
     "duration": 0.057434,
     "end_time": "2021-11-17T18:38:13.308020",
     "exception": false,
     "start_time": "2021-11-17T18:38:13.250586",
     "status": "completed"
    },
    "tags": []
   },
   "outputs": [],
   "source": [
    "# torch.manual_seed(1)\n",
    "\n",
    "# losses = list()\n",
    "# model = PretrainedCNN(hidden_size, num_classes).to(device)\n",
    "\n",
    "# criterion = nn.MSELoss()\n",
    "# optimizer = optim.Adam(model.parameters(), lr=learning_rate)\n",
    "\n",
    "# for epoch in range(1, num_epochs+1):\n",
    "    \n",
    "#     for step, (img, target) in enumerate(train_loader):\n",
    "\n",
    "#         model.zero_grad()\n",
    "\n",
    "#         img = img.to(device)\n",
    "#         target = target.to(device)\n",
    "\n",
    "#         outputs = model(img)\n",
    "\n",
    "#         loss = criterion(outputs, target.unsqueeze(1))\n",
    "\n",
    "#         loss.backward()\n",
    "#         optimizer.step()\n",
    "\n",
    "#         losses.append(loss.item())\n",
    "#         stats = 'Epoch [%d/%d], Step [%d], Loss: %.4f' % (epoch, num_epochs, step, loss.item())\n",
    "#         print('\\r' + stats, end='')\n",
    "        \n",
    "#     with torch.no_grad():\n",
    "#         val_losses = 0\n",
    "#         for img, target in val_loader:\n",
    "#             img = img.to(device)\n",
    "#             target = target.to(device)\n",
    "            \n",
    "#             outputs = model(img)\n",
    "#             val_loss = criterion(outputs, target.unsqueeze(1))\n",
    "#             val_losses += (1/len(val_loader))*val_loss.item()\n",
    "            \n",
    "#         print('\\n Epoch [%d/%d], Val Loss: %.4f' % (epoch, num_epochs, val_losses))"
   ]
  },
  {
   "cell_type": "code",
   "execution_count": 10,
   "id": "f4fb336f",
   "metadata": {
    "execution": {
     "iopub.execute_input": "2021-11-17T18:38:13.367118Z",
     "iopub.status.busy": "2021-11-17T18:38:13.366328Z",
     "iopub.status.idle": "2021-11-17T18:38:13.368669Z",
     "shell.execute_reply": "2021-11-17T18:38:13.368270Z",
     "shell.execute_reply.started": "2021-11-06T07:56:16.591895Z"
    },
    "papermill": {
     "duration": 0.031174,
     "end_time": "2021-11-17T18:38:13.368773",
     "exception": false,
     "start_time": "2021-11-17T18:38:13.337599",
     "status": "completed"
    },
    "tags": []
   },
   "outputs": [],
   "source": [
    "# res = []\n",
    "# with torch.no_grad():\n",
    "#     for images in test_loader:\n",
    "#         images = images.to(device)\n",
    "#         outputs = model(images)\n",
    "# #         res.append(float(outputs.squeeze(-1).cpu()))\n",
    "#         res.append(np.array(outputs.squeeze(1).cpu()))\n",
    "# print(res)"
   ]
  },
  {
   "cell_type": "code",
   "execution_count": 11,
   "id": "1d1508ff",
   "metadata": {
    "execution": {
     "iopub.execute_input": "2021-11-17T18:38:13.424738Z",
     "iopub.status.busy": "2021-11-17T18:38:13.423987Z",
     "iopub.status.idle": "2021-11-17T18:38:13.426392Z",
     "shell.execute_reply": "2021-11-17T18:38:13.425937Z",
     "shell.execute_reply.started": "2021-11-06T07:56:39.46968Z"
    },
    "papermill": {
     "duration": 0.031555,
     "end_time": "2021-11-17T18:38:13.426495",
     "exception": false,
     "start_time": "2021-11-17T18:38:13.394940",
     "status": "completed"
    },
    "tags": []
   },
   "outputs": [],
   "source": [
    "# data_test = pd.read_csv('/kaggle/input/petfinder-pawpularity-score/test.csv')"
   ]
  },
  {
   "cell_type": "code",
   "execution_count": 12,
   "id": "189f37f9",
   "metadata": {
    "execution": {
     "iopub.execute_input": "2021-11-17T18:38:13.481472Z",
     "iopub.status.busy": "2021-11-17T18:38:13.480797Z",
     "iopub.status.idle": "2021-11-17T18:38:13.482898Z",
     "shell.execute_reply": "2021-11-17T18:38:13.483333Z",
     "shell.execute_reply.started": "2021-11-06T07:56:45.645231Z"
    },
    "papermill": {
     "duration": 0.031028,
     "end_time": "2021-11-17T18:38:13.483449",
     "exception": false,
     "start_time": "2021-11-17T18:38:13.452421",
     "status": "completed"
    },
    "tags": []
   },
   "outputs": [],
   "source": [
    "# sub = (pd.DataFrame({'Id': data_test['Id'].values, 'Pawpularity': res}))\n",
    "# sub"
   ]
  },
  {
   "cell_type": "code",
   "execution_count": 13,
   "id": "34e7fa70",
   "metadata": {
    "execution": {
     "iopub.execute_input": "2021-11-17T18:38:13.538231Z",
     "iopub.status.busy": "2021-11-17T18:38:13.537547Z",
     "iopub.status.idle": "2021-11-17T18:38:13.539981Z",
     "shell.execute_reply": "2021-11-17T18:38:13.539566Z",
     "shell.execute_reply.started": "2021-11-06T07:56:50.298255Z"
    },
    "papermill": {
     "duration": 0.031,
     "end_time": "2021-11-17T18:38:13.540097",
     "exception": false,
     "start_time": "2021-11-17T18:38:13.509097",
     "status": "completed"
    },
    "tags": []
   },
   "outputs": [],
   "source": [
    "# sub.to_csv('submission.csv', index=False)"
   ]
  },
  {
   "cell_type": "code",
   "execution_count": null,
   "id": "adc9bb79",
   "metadata": {
    "papermill": {
     "duration": 0.037389,
     "end_time": "2021-11-17T18:38:13.603118",
     "exception": false,
     "start_time": "2021-11-17T18:38:13.565729",
     "status": "completed"
    },
    "tags": []
   },
   "outputs": [],
   "source": []
  },
  {
   "cell_type": "markdown",
   "id": "24898b3a",
   "metadata": {
    "papermill": {
     "duration": 0.036612,
     "end_time": "2021-11-17T18:38:13.679333",
     "exception": false,
     "start_time": "2021-11-17T18:38:13.642721",
     "status": "completed"
    },
    "tags": []
   },
   "source": [
    "# Second Model"
   ]
  },
  {
   "cell_type": "code",
   "execution_count": 14,
   "id": "a47d3ada",
   "metadata": {
    "execution": {
     "iopub.execute_input": "2021-11-17T18:38:13.749664Z",
     "iopub.status.busy": "2021-11-17T18:38:13.748688Z",
     "iopub.status.idle": "2021-11-17T18:38:13.750849Z",
     "shell.execute_reply": "2021-11-17T18:38:13.751262Z",
     "shell.execute_reply.started": "2021-11-17T18:27:04.629894Z"
    },
    "papermill": {
     "duration": 0.036935,
     "end_time": "2021-11-17T18:38:13.751406",
     "exception": false,
     "start_time": "2021-11-17T18:38:13.714471",
     "status": "completed"
    },
    "tags": []
   },
   "outputs": [],
   "source": [
    "class PawpularDataset(Dataset):\n",
    "    def __init__(self, images_path, features_path, transform, test=False):\n",
    "        self.images_path = images_path\n",
    "        self.df = pd.read_csv(features_path)\n",
    "        if test:\n",
    "            self.df['Pawpularity'] = np.nan # можно попробовать написать удачнее\n",
    "        \n",
    "        self.imgs = self.df['Id']\n",
    "        self.features = self.df.drop(['Id', 'Pawpularity'], axis=1)\n",
    "        self.targets = self.df['Pawpularity']\n",
    "        self.transform = transform\n",
    "    \n",
    "    def __len__(self):\n",
    "        return len(self.df)\n",
    "    \n",
    "    def __getitem__(self, index):\n",
    "        img_id = self.imgs[index]\n",
    "        img = Image.open(os.path.join(self.images_path, img_id+'.jpg')).convert('RGB')\n",
    "        img = self.transform(img)\n",
    "        \n",
    "        features = torch.FloatTensor(self.features.values[index])\n",
    "        targets = self.targets.values[index]\n",
    "        \n",
    "        return img, features, targets # сделать сразу torch.tensor(targets, dtype=torch.float) и т.д."
   ]
  },
  {
   "cell_type": "code",
   "execution_count": 15,
   "id": "a67230b8",
   "metadata": {
    "execution": {
     "iopub.execute_input": "2021-11-17T18:38:13.813750Z",
     "iopub.status.busy": "2021-11-17T18:38:13.812943Z",
     "iopub.status.idle": "2021-11-17T18:38:13.814892Z",
     "shell.execute_reply": "2021-11-17T18:38:13.815380Z",
     "shell.execute_reply.started": "2021-11-17T18:27:27.222877Z"
    },
    "papermill": {
     "duration": 0.036538,
     "end_time": "2021-11-17T18:38:13.815506",
     "exception": false,
     "start_time": "2021-11-17T18:38:13.778968",
     "status": "completed"
    },
    "tags": []
   },
   "outputs": [],
   "source": [
    "class PawpularCNN(nn.Module):\n",
    "    def __init__(self, input_size, dense_size, hidden_size, num_classes):\n",
    "        super(PawpularCNN, self).__init__()\n",
    "        self.resnet = models.resnet18(pretrained=False)\n",
    "        self.resnet.load_state_dict(\n",
    "            torch.load(\"../input/resnet185c106cdepth/resnet18-5c106cde.pth\")\n",
    "        )\n",
    "        self.resnet.fc = nn.Linear(self.resnet.fc.in_features, hidden_size)\n",
    "        self.dense = nn.Linear(input_size, dense_size)\n",
    "        self.dense2 = nn.Linear(dense_size, dense_size)\n",
    "        \n",
    "        self.fc = nn.Linear(hidden_size+dense_size, dense_size)\n",
    "        self.out = nn.Linear(dense_size, num_classes)\n",
    "        \n",
    "        self.relu = nn.ReLU()\n",
    "        \n",
    "    def forward(self, images, features):\n",
    "        for param in self.resnet.parameters():\n",
    "            param.requires_grad = False\n",
    "                \n",
    "        resnet_features = self.relu(self.resnet(images))\n",
    "        dense_features = self.relu(self.dense2(self.dense(features)))\n",
    "        \n",
    "        all_features = torch.cat((resnet_features, dense_features), dim=1)\n",
    "        all_features = torch.flatten(all_features, 1)\n",
    "        \n",
    "        return self.out(self.fc(all_features))"
   ]
  },
  {
   "cell_type": "code",
   "execution_count": 16,
   "id": "97efc458",
   "metadata": {
    "execution": {
     "iopub.execute_input": "2021-11-17T18:38:13.913279Z",
     "iopub.status.busy": "2021-11-17T18:38:13.912671Z",
     "iopub.status.idle": "2021-11-17T18:38:13.915682Z",
     "shell.execute_reply": "2021-11-17T18:38:13.916401Z",
     "shell.execute_reply.started": "2021-11-17T18:27:37.257203Z"
    },
    "papermill": {
     "duration": 0.075214,
     "end_time": "2021-11-17T18:38:13.916542",
     "exception": false,
     "start_time": "2021-11-17T18:38:13.841328",
     "status": "completed"
    },
    "tags": []
   },
   "outputs": [],
   "source": [
    "transform = transforms.Compose(\n",
    "  [\n",
    "   transforms.Resize((256,256)),\n",
    "   transforms.CenterCrop(224),\n",
    "   transforms.ToTensor(),\n",
    "   transforms.Normalize(mean=[0.485, 0.456, 0.406], \n",
    "                        std=[0.229, 0.224, 0.225])\n",
    "  ]\n",
    ")\n",
    "\n",
    "device = torch.device('cuda' if torch.cuda.is_available() else 'cpu')\n",
    "\n",
    "input_size = 12\n",
    "hidden_size = 100\n",
    "dense_size = 100\n",
    "num_classes = 1\n",
    "learning_rate = 3e-4\n",
    "num_epochs = 10"
   ]
  },
  {
   "cell_type": "code",
   "execution_count": 17,
   "id": "8a084f88",
   "metadata": {
    "execution": {
     "iopub.execute_input": "2021-11-17T18:38:13.997262Z",
     "iopub.status.busy": "2021-11-17T18:38:13.996334Z",
     "iopub.status.idle": "2021-11-17T18:38:14.067764Z",
     "shell.execute_reply": "2021-11-17T18:38:14.068472Z",
     "shell.execute_reply.started": "2021-11-17T18:27:39.041011Z"
    },
    "papermill": {
     "duration": 0.119824,
     "end_time": "2021-11-17T18:38:14.068615",
     "exception": false,
     "start_time": "2021-11-17T18:38:13.948791",
     "status": "completed"
    },
    "tags": []
   },
   "outputs": [],
   "source": [
    "torch.manual_seed(42)\n",
    "\n",
    "trainset = PawpularDataset(images_path='../input/petfinder-pawpularity-score/train', \n",
    "                           features_path='../input/petfinder-pawpularity-score/train.csv', \n",
    "                           transform=transform)\n",
    "\n",
    "num_examples = len(trainset)\n",
    "val_len = round(0.33*num_examples)\n",
    "train_len = num_examples - val_len\n",
    "\n",
    "# train_loader = DataLoader(\n",
    "#     dataset=trainset,\n",
    "#     batch_size=64,\n",
    "#     shuffle=True\n",
    "# )\n",
    "\n",
    "# test_loader = DataLoader(\n",
    "#     dataset=testloader,\n",
    "#     batch_size=1,\n",
    "#     shuffle=False\n",
    "# )\n",
    "\n",
    "train, validation = torch.utils.data.random_split(trainset, [train_len, val_len])\n",
    "train_loader = torch.utils.data.DataLoader(train, batch_size=100, \n",
    "                                           shuffle=True, num_workers=2)\n",
    "val_loader = torch.utils.data.DataLoader(validation, batch_size=100, \n",
    "                                         shuffle=True, num_workers=2)"
   ]
  },
  {
   "cell_type": "code",
   "execution_count": 18,
   "id": "aeab3cf1",
   "metadata": {
    "execution": {
     "iopub.execute_input": "2021-11-17T18:38:14.130757Z",
     "iopub.status.busy": "2021-11-17T18:38:14.127904Z",
     "iopub.status.idle": "2021-11-17T19:00:36.118118Z",
     "shell.execute_reply": "2021-11-17T19:00:36.118608Z",
     "shell.execute_reply.started": "2021-11-17T18:27:39.640538Z"
    },
    "papermill": {
     "duration": 1342.02387,
     "end_time": "2021-11-17T19:00:36.118753",
     "exception": false,
     "start_time": "2021-11-17T18:38:14.094883",
     "status": "completed"
    },
    "tags": []
   },
   "outputs": [
    {
     "name": "stdout",
     "output_type": "stream",
     "text": [
      "Epoch [1/10], Step [66], Loss: 1221.1421\n",
      " Epoch [1/10], Val Loss: 939.6755\n",
      "Epoch [2/10], Step [66], Loss: 602.9581\n",
      " Epoch [2/10], Val Loss: 463.6899\n",
      "Epoch [3/10], Step [66], Loss: 374.2061\n",
      " Epoch [3/10], Val Loss: 452.9045\n",
      "Epoch [4/10], Step [66], Loss: 339.8257\n",
      " Epoch [4/10], Val Loss: 448.2714\n",
      "Epoch [5/10], Step [66], Loss: 457.9684\n",
      " Epoch [5/10], Val Loss: 442.6013\n",
      "Epoch [6/10], Step [66], Loss: 381.3699\n",
      " Epoch [6/10], Val Loss: 436.7053\n",
      "Epoch [7/10], Step [66], Loss: 232.0581\n",
      " Epoch [7/10], Val Loss: 435.5352\n",
      "Epoch [8/10], Step [66], Loss: 235.7232\n",
      " Epoch [8/10], Val Loss: 434.3304\n",
      "Epoch [9/10], Step [66], Loss: 252.3139\n",
      " Epoch [9/10], Val Loss: 428.7607\n",
      "Epoch [10/10], Step [66], Loss: 515.7908\n",
      " Epoch [10/10], Val Loss: 425.3567\n"
     ]
    }
   ],
   "source": [
    "torch.manual_seed(101)\n",
    "\n",
    "losses = list()\n",
    "model = PawpularCNN(input_size, dense_size, hidden_size, num_classes).to(device)\n",
    "\n",
    "criterion = nn.MSELoss().to(device)\n",
    "optimizer = optim.Adam(model.parameters(), lr=learning_rate)\n",
    "\n",
    "for epoch in range(1, num_epochs+1):\n",
    "    \n",
    "    for step, (img, features, target) in enumerate(train_loader):\n",
    "\n",
    "        model.zero_grad()\n",
    "\n",
    "        img = img.to(device)\n",
    "        features = features.to(device)\n",
    "        target = target.type(torch.FloatTensor) # потом убрать эту строку\n",
    "        target = target.to(device)\n",
    "\n",
    "        outputs = model(img, features)\n",
    "\n",
    "        loss = criterion(outputs, target.unsqueeze(1)).to(device)\n",
    "\n",
    "        loss.backward()\n",
    "        optimizer.step()\n",
    "\n",
    "        losses.append(loss.item())\n",
    "        stats = 'Epoch [%d/%d], Step [%d], Loss: %.4f' % (epoch, num_epochs, step, loss.item())\n",
    "        print('\\r' + stats, end='')\n",
    "        \n",
    "    with torch.no_grad():\n",
    "        val_losses = 0\n",
    "        for img, features, target in val_loader:\n",
    "            img = img.to(device)\n",
    "            features = features.to(device)\n",
    "            target = target.to(device)\n",
    "            \n",
    "            outputs = model(img, features)\n",
    "            val_loss = criterion(outputs, target.unsqueeze(1)).to(device)\n",
    "            val_losses += (1/len(val_loader))*val_loss.item()\n",
    "            \n",
    "        print('\\n Epoch [%d/%d], Val Loss: %.4f' % (epoch, num_epochs, val_losses))"
   ]
  },
  {
   "cell_type": "code",
   "execution_count": 19,
   "id": "2d1fdb4d",
   "metadata": {
    "execution": {
     "iopub.execute_input": "2021-11-17T19:00:36.404105Z",
     "iopub.status.busy": "2021-11-17T19:00:36.403531Z",
     "iopub.status.idle": "2021-11-17T19:00:36.415948Z",
     "shell.execute_reply": "2021-11-17T19:00:36.415518Z",
     "shell.execute_reply.started": "2021-11-17T18:34:03.035786Z"
    },
    "papermill": {
     "duration": 0.157357,
     "end_time": "2021-11-17T19:00:36.416054",
     "exception": false,
     "start_time": "2021-11-17T19:00:36.258697",
     "status": "completed"
    },
    "tags": []
   },
   "outputs": [],
   "source": [
    "testset = PawpularDataset(images_path='../input/petfinder-pawpularity-score/test', \n",
    "                          features_path='../input/petfinder-pawpularity-score/test.csv', \n",
    "                          transform=transform, \n",
    "                          test=True)\n",
    "\n",
    "test_loader = torch.utils.data.DataLoader(testset, batch_size=1, \n",
    "                                          shuffle=False, num_workers=2)"
   ]
  },
  {
   "cell_type": "code",
   "execution_count": 20,
   "id": "c214c2fd",
   "metadata": {
    "execution": {
     "iopub.execute_input": "2021-11-17T19:00:36.699944Z",
     "iopub.status.busy": "2021-11-17T19:00:36.699013Z",
     "iopub.status.idle": "2021-11-17T19:00:36.885327Z",
     "shell.execute_reply": "2021-11-17T19:00:36.885760Z",
     "shell.execute_reply.started": "2021-11-17T18:36:39.073189Z"
    },
    "papermill": {
     "duration": 0.33057,
     "end_time": "2021-11-17T19:00:36.885931",
     "exception": false,
     "start_time": "2021-11-17T19:00:36.555361",
     "status": "completed"
    },
    "tags": []
   },
   "outputs": [],
   "source": [
    "res = []\n",
    "with torch.no_grad():\n",
    "        for img, features, target in test_loader:\n",
    "            img = img.to(device)\n",
    "            features = features.to(device)\n",
    "            \n",
    "            outputs = model(img, features)\n",
    "            res.append(float(outputs.squeeze(-1).cpu()))"
   ]
  },
  {
   "cell_type": "code",
   "execution_count": 21,
   "id": "c538415f",
   "metadata": {
    "execution": {
     "iopub.execute_input": "2021-11-17T19:00:37.175742Z",
     "iopub.status.busy": "2021-11-17T19:00:37.175122Z",
     "iopub.status.idle": "2021-11-17T19:00:37.178099Z",
     "shell.execute_reply": "2021-11-17T19:00:37.178511Z",
     "shell.execute_reply.started": "2021-11-17T18:36:47.583030Z"
    },
    "papermill": {
     "duration": 0.150436,
     "end_time": "2021-11-17T19:00:37.178641",
     "exception": false,
     "start_time": "2021-11-17T19:00:37.028205",
     "status": "completed"
    },
    "tags": []
   },
   "outputs": [
    {
     "data": {
      "text/plain": [
       "[37.773109436035156,\n",
       " 31.327985763549805,\n",
       " 38.626277923583984,\n",
       " 34.43966293334961,\n",
       " 36.603763580322266,\n",
       " 48.45626449584961,\n",
       " 31.763471603393555,\n",
       " 34.64982604980469]"
      ]
     },
     "execution_count": 21,
     "metadata": {},
     "output_type": "execute_result"
    }
   ],
   "source": [
    "res"
   ]
  },
  {
   "cell_type": "markdown",
   "id": "92f16316",
   "metadata": {
    "papermill": {
     "duration": 0.238607,
     "end_time": "2021-11-17T19:00:37.629733",
     "exception": false,
     "start_time": "2021-11-17T19:00:37.391126",
     "status": "completed"
    },
    "tags": []
   },
   "source": [
    "# Combine Models"
   ]
  },
  {
   "cell_type": "markdown",
   "id": "4bf8a885",
   "metadata": {
    "papermill": {
     "duration": 0.141065,
     "end_time": "2021-11-17T19:00:37.992681",
     "exception": false,
     "start_time": "2021-11-17T19:00:37.851616",
     "status": "completed"
    },
    "tags": []
   },
   "source": [
    "### Random Forest Regressor"
   ]
  },
  {
   "cell_type": "code",
   "execution_count": 22,
   "id": "0487515e",
   "metadata": {
    "execution": {
     "iopub.execute_input": "2021-11-17T19:00:38.276547Z",
     "iopub.status.busy": "2021-11-17T19:00:38.275811Z",
     "iopub.status.idle": "2021-11-17T19:00:39.125485Z",
     "shell.execute_reply": "2021-11-17T19:00:39.124661Z",
     "shell.execute_reply.started": "2021-11-17T18:37:22.483182Z"
    },
    "papermill": {
     "duration": 0.993472,
     "end_time": "2021-11-17T19:00:39.125617",
     "exception": false,
     "start_time": "2021-11-17T19:00:38.132145",
     "status": "completed"
    },
    "tags": []
   },
   "outputs": [],
   "source": [
    "from sklearn.ensemble import RandomForestRegressor, GradientBoostingRegressor\n",
    "from sklearn.model_selection import GridSearchCV, train_test_split\n",
    "from sklearn.metrics import mean_squared_error"
   ]
  },
  {
   "cell_type": "code",
   "execution_count": 23,
   "id": "514ab57a",
   "metadata": {
    "execution": {
     "iopub.execute_input": "2021-11-17T19:00:39.408876Z",
     "iopub.status.busy": "2021-11-17T19:00:39.407964Z",
     "iopub.status.idle": "2021-11-17T19:00:39.429348Z",
     "shell.execute_reply": "2021-11-17T19:00:39.429807Z",
     "shell.execute_reply.started": "2021-11-17T18:37:23.395994Z"
    },
    "papermill": {
     "duration": 0.16543,
     "end_time": "2021-11-17T19:00:39.429959",
     "exception": false,
     "start_time": "2021-11-17T19:00:39.264529",
     "status": "completed"
    },
    "tags": []
   },
   "outputs": [],
   "source": [
    "data = pd.read_csv('/kaggle/input/petfinder-pawpularity-score/train.csv')\n",
    "data_test = pd.read_csv('/kaggle/input/petfinder-pawpularity-score/test.csv')"
   ]
  },
  {
   "cell_type": "code",
   "execution_count": 24,
   "id": "9d4d9f9f",
   "metadata": {
    "execution": {
     "iopub.execute_input": "2021-11-17T19:00:39.720925Z",
     "iopub.status.busy": "2021-11-17T19:00:39.720385Z",
     "iopub.status.idle": "2021-11-17T19:00:39.724672Z",
     "shell.execute_reply": "2021-11-17T19:00:39.724265Z",
     "shell.execute_reply.started": "2021-11-17T18:37:23.423214Z"
    },
    "papermill": {
     "duration": 0.153427,
     "end_time": "2021-11-17T19:00:39.724783",
     "exception": false,
     "start_time": "2021-11-17T19:00:39.571356",
     "status": "completed"
    },
    "tags": []
   },
   "outputs": [],
   "source": [
    "X_train, X_test, Y_train, Y_test = train_test_split(data.iloc[:, 1:-1], data.iloc[:, -1], test_size=0.1,\\\n",
    "                                                    shuffle=True, random_state=5)"
   ]
  },
  {
   "cell_type": "code",
   "execution_count": 25,
   "id": "9c7d5cbd",
   "metadata": {
    "execution": {
     "iopub.execute_input": "2021-11-17T19:00:40.045395Z",
     "iopub.status.busy": "2021-11-17T19:00:40.044366Z",
     "iopub.status.idle": "2021-11-17T19:00:41.491441Z",
     "shell.execute_reply": "2021-11-17T19:00:41.491936Z",
     "shell.execute_reply.started": "2021-11-17T18:37:23.435574Z"
    },
    "papermill": {
     "duration": 1.610642,
     "end_time": "2021-11-17T19:00:41.492132",
     "exception": false,
     "start_time": "2021-11-17T19:00:39.881490",
     "status": "completed"
    },
    "tags": []
   },
   "outputs": [
    {
     "data": {
      "text/plain": [
       "RandomForestRegressor(max_depth=3, n_estimators=500, n_jobs=-1)"
      ]
     },
     "execution_count": 25,
     "metadata": {},
     "output_type": "execute_result"
    }
   ],
   "source": [
    "rfr = RandomForestRegressor(n_estimators=500, max_depth=3, n_jobs=-1)\n",
    "rfr.fit(X_train, Y_train)"
   ]
  },
  {
   "cell_type": "code",
   "execution_count": 26,
   "id": "9a06d3bf",
   "metadata": {
    "execution": {
     "iopub.execute_input": "2021-11-17T19:00:41.798056Z",
     "iopub.status.busy": "2021-11-17T19:00:41.797523Z",
     "iopub.status.idle": "2021-11-17T19:00:42.004740Z",
     "shell.execute_reply": "2021-11-17T19:00:42.004195Z",
     "shell.execute_reply.started": "2021-11-17T18:37:24.777949Z"
    },
    "papermill": {
     "duration": 0.363737,
     "end_time": "2021-11-17T19:00:42.004875",
     "exception": false,
     "start_time": "2021-11-17T19:00:41.641138",
     "status": "completed"
    },
    "tags": []
   },
   "outputs": [
    {
     "data": {
      "text/plain": [
       "21.28213956512773"
      ]
     },
     "execution_count": 26,
     "metadata": {},
     "output_type": "execute_result"
    }
   ],
   "source": [
    "np.sqrt(mean_squared_error(rfr.predict(X_test), Y_test))"
   ]
  },
  {
   "cell_type": "code",
   "execution_count": 27,
   "id": "4e9b0471",
   "metadata": {
    "execution": {
     "iopub.execute_input": "2021-11-17T19:00:42.296403Z",
     "iopub.status.busy": "2021-11-17T19:00:42.294801Z",
     "iopub.status.idle": "2021-11-17T19:00:42.297037Z",
     "shell.execute_reply": "2021-11-17T19:00:42.297480Z",
     "shell.execute_reply.started": "2021-11-17T18:37:24.889145Z"
    },
    "papermill": {
     "duration": 0.147948,
     "end_time": "2021-11-17T19:00:42.297614",
     "exception": false,
     "start_time": "2021-11-17T19:00:42.149666",
     "status": "completed"
    },
    "tags": []
   },
   "outputs": [],
   "source": [
    "X_val = data_test.iloc[:, 1:]"
   ]
  },
  {
   "cell_type": "code",
   "execution_count": 28,
   "id": "0d04bd87",
   "metadata": {
    "execution": {
     "iopub.execute_input": "2021-11-17T19:00:42.586318Z",
     "iopub.status.busy": "2021-11-17T19:00:42.585564Z",
     "iopub.status.idle": "2021-11-17T19:00:42.688928Z",
     "shell.execute_reply": "2021-11-17T19:00:42.689476Z",
     "shell.execute_reply.started": "2021-11-17T18:37:24.899292Z"
    },
    "papermill": {
     "duration": 0.250585,
     "end_time": "2021-11-17T19:00:42.689620",
     "exception": false,
     "start_time": "2021-11-17T19:00:42.439035",
     "status": "completed"
    },
    "tags": []
   },
   "outputs": [],
   "source": [
    "prediction_rfr = rfr.predict(X_val)"
   ]
  },
  {
   "cell_type": "markdown",
   "id": "3a24b6a4",
   "metadata": {
    "papermill": {
     "duration": 0.139703,
     "end_time": "2021-11-17T19:00:42.968995",
     "exception": false,
     "start_time": "2021-11-17T19:00:42.829292",
     "status": "completed"
    },
    "tags": []
   },
   "source": [
    "### Gradient Boosting Regressor"
   ]
  },
  {
   "cell_type": "code",
   "execution_count": 29,
   "id": "4ef4e9d4",
   "metadata": {
    "execution": {
     "iopub.execute_input": "2021-11-17T19:00:43.263320Z",
     "iopub.status.busy": "2021-11-17T19:00:43.262464Z",
     "iopub.status.idle": "2021-11-17T19:00:43.672631Z",
     "shell.execute_reply": "2021-11-17T19:00:43.672142Z",
     "shell.execute_reply.started": "2021-11-17T18:37:25.009370Z"
    },
    "papermill": {
     "duration": 0.562851,
     "end_time": "2021-11-17T19:00:43.672763",
     "exception": false,
     "start_time": "2021-11-17T19:00:43.109912",
     "status": "completed"
    },
    "tags": []
   },
   "outputs": [
    {
     "data": {
      "text/plain": [
       "21.27811671234943"
      ]
     },
     "execution_count": 29,
     "metadata": {},
     "output_type": "execute_result"
    }
   ],
   "source": [
    "gbr = GradientBoostingRegressor(n_estimators=400, max_depth=1, learning_rate=0.01)\n",
    "gbr.fit(X_train, Y_train)\n",
    "prediction_gbr = gbr.predict(X_test)\n",
    "np.sqrt(mean_squared_error(Y_test, prediction_gbr))"
   ]
  },
  {
   "cell_type": "code",
   "execution_count": 30,
   "id": "9f0b5402",
   "metadata": {
    "execution": {
     "iopub.execute_input": "2021-11-17T19:00:43.968857Z",
     "iopub.status.busy": "2021-11-17T19:00:43.968122Z",
     "iopub.status.idle": "2021-11-17T19:00:43.970814Z",
     "shell.execute_reply": "2021-11-17T19:00:43.970388Z",
     "shell.execute_reply.started": "2021-11-17T18:37:25.448599Z"
    },
    "papermill": {
     "duration": 0.147382,
     "end_time": "2021-11-17T19:00:43.970931",
     "exception": false,
     "start_time": "2021-11-17T19:00:43.823549",
     "status": "completed"
    },
    "tags": []
   },
   "outputs": [],
   "source": [
    "prediction_gbr = gbr.predict(X_val)"
   ]
  },
  {
   "cell_type": "markdown",
   "id": "11ffe1e9",
   "metadata": {
    "papermill": {
     "duration": 0.140841,
     "end_time": "2021-11-17T19:00:44.252689",
     "exception": false,
     "start_time": "2021-11-17T19:00:44.111848",
     "status": "completed"
    },
    "tags": []
   },
   "source": [
    "### Combine"
   ]
  },
  {
   "cell_type": "code",
   "execution_count": 31,
   "id": "16fe0b59",
   "metadata": {
    "execution": {
     "iopub.execute_input": "2021-11-17T19:00:44.538292Z",
     "iopub.status.busy": "2021-11-17T19:00:44.537552Z",
     "iopub.status.idle": "2021-11-17T19:00:44.546273Z",
     "shell.execute_reply": "2021-11-17T19:00:44.546823Z",
     "shell.execute_reply.started": "2021-11-17T18:37:25.661823Z"
    },
    "papermill": {
     "duration": 0.153512,
     "end_time": "2021-11-17T19:00:44.546967",
     "exception": false,
     "start_time": "2021-11-17T19:00:44.393455",
     "status": "completed"
    },
    "tags": []
   },
   "outputs": [
    {
     "name": "stderr",
     "output_type": "stream",
     "text": [
      "/opt/conda/lib/python3.7/site-packages/numpy/core/_asarray.py:136: VisibleDeprecationWarning: Creating an ndarray from ragged nested sequences (which is a list-or-tuple of lists-or-tuples-or ndarrays with different lengths or shapes) is deprecated. If you meant to do this, you must specify 'dtype=object' when creating the ndarray\n",
      "  return array(a, dtype, copy=False, order=order, subok=True)\n"
     ]
    },
    {
     "data": {
      "text/plain": [
       "array([37.16190728, 38.04534509, 37.96527081, 37.20356884, 35.69100866,\n",
       "       39.27562107, 35.6166711 , 36.44283814])"
      ]
     },
     "execution_count": 31,
     "metadata": {},
     "output_type": "execute_result"
    }
   ],
   "source": [
    "output = np.mean([res[0], prediction_rfr, prediction_gbr], axis=0)\n",
    "output"
   ]
  },
  {
   "cell_type": "markdown",
   "id": "4324698a",
   "metadata": {
    "papermill": {
     "duration": 0.139548,
     "end_time": "2021-11-17T19:00:44.832467",
     "exception": false,
     "start_time": "2021-11-17T19:00:44.692919",
     "status": "completed"
    },
    "tags": []
   },
   "source": [
    "### Submission"
   ]
  },
  {
   "cell_type": "code",
   "execution_count": 32,
   "id": "1f0fb4ea",
   "metadata": {
    "execution": {
     "iopub.execute_input": "2021-11-17T19:00:45.275629Z",
     "iopub.status.busy": "2021-11-17T19:00:45.274819Z",
     "iopub.status.idle": "2021-11-17T19:00:45.290595Z",
     "shell.execute_reply": "2021-11-17T19:00:45.289728Z",
     "shell.execute_reply.started": "2021-11-17T18:37:26.215737Z"
    },
    "papermill": {
     "duration": 0.258706,
     "end_time": "2021-11-17T19:00:45.290764",
     "exception": false,
     "start_time": "2021-11-17T19:00:45.032058",
     "status": "completed"
    },
    "tags": []
   },
   "outputs": [
    {
     "data": {
      "text/html": [
       "<div>\n",
       "<style scoped>\n",
       "    .dataframe tbody tr th:only-of-type {\n",
       "        vertical-align: middle;\n",
       "    }\n",
       "\n",
       "    .dataframe tbody tr th {\n",
       "        vertical-align: top;\n",
       "    }\n",
       "\n",
       "    .dataframe thead th {\n",
       "        text-align: right;\n",
       "    }\n",
       "</style>\n",
       "<table border=\"1\" class=\"dataframe\">\n",
       "  <thead>\n",
       "    <tr style=\"text-align: right;\">\n",
       "      <th></th>\n",
       "      <th>Id</th>\n",
       "      <th>Pawpularity</th>\n",
       "    </tr>\n",
       "  </thead>\n",
       "  <tbody>\n",
       "    <tr>\n",
       "      <th>0</th>\n",
       "      <td>4128bae22183829d2b5fea10effdb0c3</td>\n",
       "      <td>37.161907</td>\n",
       "    </tr>\n",
       "    <tr>\n",
       "      <th>1</th>\n",
       "      <td>43a2262d7738e3d420d453815151079e</td>\n",
       "      <td>38.045345</td>\n",
       "    </tr>\n",
       "    <tr>\n",
       "      <th>2</th>\n",
       "      <td>4e429cead1848a298432a0acad014c9d</td>\n",
       "      <td>37.965271</td>\n",
       "    </tr>\n",
       "    <tr>\n",
       "      <th>3</th>\n",
       "      <td>80bc3ccafcc51b66303c2c263aa38486</td>\n",
       "      <td>37.203569</td>\n",
       "    </tr>\n",
       "    <tr>\n",
       "      <th>4</th>\n",
       "      <td>8f49844c382931444e68dffbe20228f4</td>\n",
       "      <td>35.691009</td>\n",
       "    </tr>\n",
       "    <tr>\n",
       "      <th>5</th>\n",
       "      <td>b03f7041962238a7c9d6537e22f9b017</td>\n",
       "      <td>39.275621</td>\n",
       "    </tr>\n",
       "    <tr>\n",
       "      <th>6</th>\n",
       "      <td>c978013571258ed6d4637f6e8cc9d6a3</td>\n",
       "      <td>35.616671</td>\n",
       "    </tr>\n",
       "    <tr>\n",
       "      <th>7</th>\n",
       "      <td>e0de453c1bffc20c22b072b34b54e50f</td>\n",
       "      <td>36.442838</td>\n",
       "    </tr>\n",
       "  </tbody>\n",
       "</table>\n",
       "</div>"
      ],
      "text/plain": [
       "                                 Id  Pawpularity\n",
       "0  4128bae22183829d2b5fea10effdb0c3    37.161907\n",
       "1  43a2262d7738e3d420d453815151079e    38.045345\n",
       "2  4e429cead1848a298432a0acad014c9d    37.965271\n",
       "3  80bc3ccafcc51b66303c2c263aa38486    37.203569\n",
       "4  8f49844c382931444e68dffbe20228f4    35.691009\n",
       "5  b03f7041962238a7c9d6537e22f9b017    39.275621\n",
       "6  c978013571258ed6d4637f6e8cc9d6a3    35.616671\n",
       "7  e0de453c1bffc20c22b072b34b54e50f    36.442838"
      ]
     },
     "execution_count": 32,
     "metadata": {},
     "output_type": "execute_result"
    }
   ],
   "source": [
    "sub = (pd.DataFrame({'Id': data_test['Id'].values, 'Pawpularity': output}))\n",
    "sub"
   ]
  },
  {
   "cell_type": "code",
   "execution_count": 33,
   "id": "3c9fcb02",
   "metadata": {
    "execution": {
     "iopub.execute_input": "2021-11-17T19:00:45.822057Z",
     "iopub.status.busy": "2021-11-17T19:00:45.821283Z",
     "iopub.status.idle": "2021-11-17T19:00:45.822648Z",
     "shell.execute_reply": "2021-11-17T19:00:45.823049Z",
     "shell.execute_reply.started": "2021-11-17T18:37:29.929802Z"
    },
    "papermill": {
     "duration": 0.249175,
     "end_time": "2021-11-17T19:00:45.823249",
     "exception": false,
     "start_time": "2021-11-17T19:00:45.574074",
     "status": "completed"
    },
    "tags": []
   },
   "outputs": [],
   "source": [
    "sub.to_csv('submission.csv', index=False)"
   ]
  },
  {
   "cell_type": "code",
   "execution_count": null,
   "id": "41fc5c41",
   "metadata": {
    "papermill": {
     "duration": 0.14677,
     "end_time": "2021-11-17T19:00:46.217890",
     "exception": false,
     "start_time": "2021-11-17T19:00:46.071120",
     "status": "completed"
    },
    "tags": []
   },
   "outputs": [],
   "source": []
  }
 ],
 "metadata": {
  "kernelspec": {
   "display_name": "Python 3",
   "language": "python",
   "name": "python3"
  },
  "language_info": {
   "codemirror_mode": {
    "name": "ipython",
    "version": 3
   },
   "file_extension": ".py",
   "mimetype": "text/x-python",
   "name": "python",
   "nbconvert_exporter": "python",
   "pygments_lexer": "ipython3",
   "version": "3.7.10"
  },
  "papermill": {
   "default_parameters": {},
   "duration": 1363.84886,
   "end_time": "2021-11-17T19:00:47.773380",
   "environment_variables": {},
   "exception": null,
   "input_path": "__notebook__.ipynb",
   "output_path": "__notebook__.ipynb",
   "parameters": {},
   "start_time": "2021-11-17T18:38:03.924520",
   "version": "2.3.3"
  }
 },
 "nbformat": 4,
 "nbformat_minor": 5
}
